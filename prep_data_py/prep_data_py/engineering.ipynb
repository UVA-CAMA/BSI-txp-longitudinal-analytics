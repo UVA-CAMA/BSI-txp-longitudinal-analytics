{
 "cells": [
  {
   "cell_type": "code",
   "execution_count": 1,
   "metadata": {},
   "outputs": [],
   "source": [
    "import pandas as pd\n",
    "import numpy as np\n",
    "pd.set_option('display.max_columns', None)#pd.reset_option(“max_columns”)\n",
    "import matplotlib.pyplot as plt\n",
    "import seaborn as sns\n",
    "import missingno as msno\n",
    "import statsmodels.api as sm\n",
    "\n",
    "sns.set_style('whitegrid')"
   ]
  },
  {
   "cell_type": "markdown",
   "metadata": {},
   "source": [
    "# Read me\n",
    "\n",
    "### fea_viz()\n",
    "visualization tools to examine each step\n",
    "\n",
    "### patient_info()\n",
    "print sample size and bsi proportion after each step\n",
    "\n",
    "### notation\n",
    "1. df is tmp dataframe for each local task\n",
    "2. df_org : raw dataset\n",
    "3. df_fixed: outlier fixed df\n",
    "4. df_imp: globally imputed df (median / mice / knn ... )\n"
   ]
  },
  {
   "cell_type": "code",
   "execution_count": 2,
   "metadata": {},
   "outputs": [],
   "source": [
    "def fea_viz(df,feas=[]):\n",
    "    \n",
    "    features = ['age', 'Temp', 'Resp', 'Pulse', 'hr', 'SBP', 'DBP', 'SpO2',\n",
    "           'GCS', 'FiO2', 'O2_Flow', 'GLUCOSE', 'TOTAL_BILIRUBIN', 'POTASSIUM',\n",
    "           'ALBUMIN', 'CALCIUM', 'SODIUM', 'WHITE_BLOOD_CELL_COUNT', 'PHOSPHORUS',\n",
    "           'PROTIME_INR', 'CREATININE', 'PLATELET_COUNT', 'ALT_GPT', 'CO2',\n",
    "           'ALKALINE_PHOSPHATASE', 'AST_GOT', 'PCO2', 'CHLORIDE', 'TROPONIN_I',\n",
    "           'PARTIAL_THROMBOPLASTIN_TIME', 'LACTIC_ACID', 'BLOOD_UREA_NITROGEN',\n",
    "           'OXYGEN_SATURATION', 'MAGNESIUM', 'FIO2', 's_rr', 's_edr', 'srr',\n",
    "           's_hr', 'ds', 'mrr', 's_so2','x_hr_so2','x_hr_edr']\n",
    "    \n",
    "    if len(feas)>0:\n",
    "        features = feas\n",
    "    \n",
    "    for fea in features:\n",
    "        try:\n",
    "            fig, axs = plt.subplots(1, 3, figsize=(20, 5),sharex='row')\n",
    "            axs = axs.flatten()\n",
    "            \n",
    "            data = df[~df[fea].isna()][[fea,'txp','BSI']]\n",
    "            \n",
    "            txp_prop = []\n",
    "            ntxp_prop = []\n",
    "            all_prop = []\n",
    "            value = np.linspace(min(data[fea]),max(data[fea]), num=100)\n",
    "            for i in range(90):\n",
    "                X = value[i:(i+10)]\n",
    "                txp_prop.append(data[(data['txp']==1)&(data[fea].between(min(X),max(X)))]['BSI'].mean())\n",
    "                ntxp_prop.append(data[(data['txp']==0)&data[fea].between(min(X),max(X))]['BSI'].mean())\n",
    "                all_prop.append(data[data[fea].between(min(X),max(X))]['BSI'].mean())\n",
    "            # save proportion into dataframe\n",
    "            prop = pd.DataFrame()\n",
    "            prop[fea]=value[:90]\n",
    "            prop['non']=ntxp_prop\n",
    "            prop['txp']=txp_prop\n",
    "            prop['all']=all_prop\n",
    "            prop.plot(x=fea,ax=axs[0])\n",
    "            axs[0].set_ylabel('BSI row proportion')\n",
    "            axs[0].set_title('moving average')\n",
    "        except:\n",
    "            print(\"error plot \"+fea+\" moving average proportion\");\n",
    "            pass\n",
    "        \n",
    "        try:\n",
    "            sns.distplot(data[fea],ax=axs[1])\n",
    "            axs[1].set_ylabel('density')\n",
    "            sns.boxplot(orient='h',x=data[fea],y=data['txp'],hue=data['BSI'],ax=axs[2])#a lower quartile, median, and upper quartile\n",
    "            plt.show(); \n",
    "        except:\n",
    "            print(\"error plot \"+fea+\" density / box plot\")\n",
    "            pass\n",
    "        "
   ]
  },
  {
   "cell_type": "code",
   "execution_count": 3,
   "metadata": {},
   "outputs": [],
   "source": [
    "def sample_BSI_info(df):\n",
    "    assert('id' in df.columns)\n",
    "    assert('episode' in df.columns)\n",
    "    assert('BSI' in df.columns)\n",
    "    assert('txp' in df.columns)\n",
    "    \n",
    "    # patient-wise info\n",
    "    print(\"Patient:\")\n",
    "    print(\"    pos_# neg_# pos_pct\") \n",
    "    print('all :', \n",
    "          '{:3d}'.format(df[(df['BSI']==1)]['id'].nunique()),\n",
    "          '{:3d}'.format(df[(df['BSI']==0)]['id'].nunique()),\n",
    "         '{:.4f}'.format(df[(df['BSI']==1)]['id'].nunique()/df['id'].nunique())) \n",
    "    print('txp :',\n",
    "          '{:3d}'.format(df[(df['txp']==1)&(df['BSI']==1)]['id'].nunique()), \n",
    "          '{:3d}'.format(df[(df['txp']==1)&(df['BSI']==0)]['id'].nunique()),\n",
    "          '{:.4f}'.format(df[(df['txp']==1)&(df['BSI']==1)]['id'].nunique()/df[(df['txp']==1)]['id'].nunique())) \n",
    "    print('non :', \n",
    "          '{:3d}'.format(df[(df['txp']==0)&(df['BSI']==1)]['id'].nunique()), \n",
    "          '{:3d}'.format(df[(df['txp']==0)&(df['BSI']==0)]['id'].nunique()), \n",
    "          '{:.4f}'.format(df[(df['txp']==0)&(df['BSI']==1)]['id'].nunique()/df[(df['txp']==0)]['id'].nunique())) \n",
    "\n",
    "    # episode-wise info\n",
    "    print(\"\\nEpisode:\")\n",
    "    print(\"  pos_# neg_# pos_pct\")\n",
    "    print('all :', \n",
    "          '{:3d}'.format(len(df[(df['BSI']==1)].groupby(['id','episode']))),\n",
    "          '{:3d}'.format(len(df[(df['BSI']==0)].groupby(['id','episode']))),\n",
    "         '{:.4f}'.format(len(df[(df['BSI']==1)].groupby(['id','episode']))/len(df.groupby(['id','episode']))))\n",
    "    print('txp :',\n",
    "          '{:3d}'.format(len(df[(df['txp']==1)&(df['BSI']==1)].groupby(['id','episode']))), \n",
    "          '{:3d}'.format(len(df[(df['txp']==1)&(df['BSI']==0)].groupby(['id','episode']))),\n",
    "          '{:.4f}'.format(len(df[(df['txp']==1)&(df['BSI']==1)].groupby(['id','episode']))/len(df[(df['txp']==1)].groupby(['id','episode'])))) \n",
    "    print('non :', \n",
    "          '{:3d}'.format(len(df[(df['txp']==0)&(df['BSI']==1)].groupby(['id','episode']))), \n",
    "          '{:3d}'.format(len(df[(df['txp']==0)&(df['BSI']==0)].groupby(['id','episode']))),\n",
    "          '{:.4f}'.format(len(df[(df['txp']==0)&(df['BSI']==1)].groupby(['id','episode']))/len(df[(df['txp']==0)].groupby(['id','episode'])))) \n",
    "    \n",
    "    # row-wise info\n",
    "    print(\"\\nRow:\")\n",
    "    print(\"        pos_# neg_# pos_pct\")\n",
    "    print('all :', \n",
    "          '{:7d}'.format(df[df['BSI']==1].shape[0]),\n",
    "          '{:7d}'.format(df[df['BSI']==0].shape[0]),\n",
    "         '{:.4f}'.format(df['BSI'].mean()))\n",
    "    print('txp :',\n",
    "          '{:7d}'.format(df[(df['txp']==1)&(df['BSI']==1)].shape[0]), \n",
    "          '{:7d}'.format(df[(df['txp']==1)&(df['BSI']==0)].shape[0]), \n",
    "          '{:.4f}'.format(df[df['txp']==1]['BSI'].mean())) \n",
    "    print('non :',\n",
    "          '{:7d}'.format(df[(df['txp']==0)&(df['BSI']==1)].shape[0]),\n",
    "          '{:7d}'.format(df[(df['txp']==0)&(df['BSI']==0)].shape[0]),\n",
    "          '{:.4f}'.format(df[df['txp']==0]['BSI'].mean())) \n"
   ]
  },
  {
   "cell_type": "code",
   "execution_count": 4,
   "metadata": {},
   "outputs": [],
   "source": [
    "def sample_txp_info(df):\n",
    "    assert('id' in df.columns)\n",
    "    assert('txp' in df.columns)\n",
    "    \n",
    "    if 'BSI' not in df.columns:\n",
    "        print(\"Window:\")\n",
    "        print(\"    txp_# non_# txp_pct\") \n",
    "        print('all :', \n",
    "              '{:3d}'.format(df[(df['txp']==1)]['id'].nunique()),\n",
    "              '{:3d}'.format(df[(df['txp']==0)]['id'].nunique()),\n",
    "             '{:.4f}'.format(df[(df['txp']==1)]['id'].nunique()/df['id'].nunique())) \n",
    "\n",
    "        print(\"\\nRow:\")\n",
    "        print(\"        txp_# non_# txp_pct\")\n",
    "        print('all :', \n",
    "              '{:7d}'.format(df[df['txp']==1].shape[0]),\n",
    "              '{:7d}'.format(df[df['txp']==0].shape[0]),\n",
    "             '{:.4f}'.format(df['txp'].mean()))\n",
    "    \n",
    "    else:\n",
    "        # patient-wise info\n",
    "        print(\"Patient:\")\n",
    "        print(\"    txp_# non_# txp_pct\") \n",
    "        print('all :', \n",
    "              '{:3d}'.format(df[(df['txp']==1)]['id'].nunique()),\n",
    "              '{:3d}'.format(df[(df['txp']==0)]['id'].nunique()),\n",
    "             '{:.4f}'.format(df[(df['txp']==1)]['id'].nunique()/df['id'].nunique())) \n",
    "        try:\n",
    "            print('pos :',\n",
    "                  '{:3d}'.format(df[(df['BSI']==1)&(df['txp']==1)]['id'].nunique()), \n",
    "                  '{:3d}'.format(df[(df['BSI']==1)&(df['txp']==0)]['id'].nunique()),\n",
    "                  '{:.4f}'.format(df[(df['BSI']==1)&(df['txp']==1)]['id'].nunique()/df[(df['BSI']==1)]['id'].nunique())) \n",
    "            print('neg :', \n",
    "                  '{:3d}'.format(df[(df['BSI']==0)&(df['txp']==1)]['id'].nunique()), \n",
    "                  '{:3d}'.format(df[(df['BSI']==0)&(df['txp']==0)]['id'].nunique()), \n",
    "                  '{:.4f}'.format(df[(df['BSI']==0)&(df['txp']==1)]['id'].nunique()/df[(df['BSI']==0)]['id'].nunique())) \n",
    "        except:\n",
    "            pass\n",
    "\n",
    "        # episode-wise info\n",
    "        try:\n",
    "            print(\"\\nEpisode:\")\n",
    "            print(\"  txp_# non_# txp_pct\")\n",
    "            print('all :', \n",
    "                  '{:3d}'.format(len(df[(df['txp']==1)].groupby(['id','episode']))),\n",
    "                  '{:3d}'.format(len(df[(df['txp']==0)].groupby(['id','episode']))),\n",
    "                 '{:.4f}'.format(len(df[(df['txp']==1)].groupby(['id','episode']))/len(df.groupby(['id','episode']))))\n",
    "            print('pos :',\n",
    "                  '{:3d}'.format(len(df[(df['txp']==1)&(df['BSI']==1)].groupby(['id','episode']))), \n",
    "                  '{:3d}'.format(len(df[(df['txp']==0)&(df['BSI']==1)].groupby(['id','episode']))),\n",
    "                  '{:.4f}'.format(len(df[(df['txp']==1)&(df['BSI']==1)].groupby(['id','episode']))/len(df[(df['BSI']==1)].groupby(['id','episode'])))) \n",
    "            print('neg :', \n",
    "                  '{:3d}'.format(len(df[(df['txp']==1)&(df['BSI']==0)].groupby(['id','episode']))), \n",
    "                  '{:3d}'.format(len(df[(df['txp']==0)&(df['BSI']==0)].groupby(['id','episode']))),\n",
    "                  '{:.4f}'.format(len(df[(df['txp']==1)&(df['BSI']==0)].groupby(['id','episode']))/len(df[(df['BSI']==0)].groupby(['id','episode'])))) \n",
    "        except:\n",
    "            pass \n",
    "\n",
    "        # row-wise info\n",
    "        print(\"\\nRow:\")\n",
    "        print(\"        txp_# non_# txp_pct\")\n",
    "        print('all :', \n",
    "              '{:7d}'.format(df[df['txp']==1].shape[0]),\n",
    "              '{:7d}'.format(df[df['txp']==0].shape[0]),\n",
    "             '{:.4f}'.format(df['txp'].mean()))\n",
    "        try:\n",
    "            print('pos :',\n",
    "                  '{:7d}'.format(df[(df['txp']==1)&(df['BSI']==1)].shape[0]), \n",
    "                  '{:7d}'.format(df[(df['txp']==0)&(df['BSI']==1)].shape[0]), \n",
    "                  '{:.4f}'.format(df[df['txp']==1]['BSI'].mean())) \n",
    "            print('neg :',\n",
    "                  '{:7d}'.format(df[(df['txp']==1)&(df['BSI']==0)].shape[0]),\n",
    "                  '{:7d}'.format(df[(df['txp']==0)&(df['BSI']==0)].shape[0]),\n",
    "                  '{:.4f}'.format(df[df['txp']==1]['BSI'].mean())) \n",
    "        except:\n",
    "            pass\n"
   ]
  },
  {
   "cell_type": "markdown",
   "metadata": {},
   "source": [
    "# ---- engineering episode data -----\n",
    "## 1. load raw data"
   ]
  },
  {
   "cell_type": "code",
   "execution_count": 5,
   "metadata": {},
   "outputs": [],
   "source": [
    "df_org = pd.read_csv('../data/ep_uva_1B2A.csv',low_memory=False)\n",
    "if ('BSI' not in df_org.columns) or (df_org['BSI'].mean()==0):\n",
    "    print(\"labeling...\")\n",
    "    df_org['BSI'] = 0 \n",
    "    for patient_id in list(df_org['id'].unique()):\n",
    "        if df_org[df_org['id']==patient_id]['True_positive'].mean() > 0:\n",
    "            df_org.loc[df_org['id']==patient_id,'BSI'] = 1 "
   ]
  },
  {
   "cell_type": "markdown",
   "metadata": {},
   "source": [
    "## 2. global imputation + add derived columns"
   ]
  },
  {
   "cell_type": "code",
   "execution_count": 21,
   "metadata": {},
   "outputs": [],
   "source": [
    "features = ['age', 'Temp', 'Resp', 'Pulse', 'hr', 'SBP', 'DBP', 'SpO2',\n",
    "           'GCS', 'FiO2', 'O2_Flow', 'GLUCOSE', 'TOTAL_BILIRUBIN', 'POTASSIUM',\n",
    "           'ALBUMIN', 'CALCIUM', 'SODIUM', 'WHITE_BLOOD_CELL_COUNT', 'PHOSPHORUS',\n",
    "           'PROTIME_INR', 'CREATININE', 'PLATELET_COUNT', 'ALT_GPT', 'CO2',\n",
    "           'ALKALINE_PHOSPHATASE', 'AST_GOT', 'PCO2', 'CHLORIDE', 'TROPONIN_I',\n",
    "           'PARTIAL_THROMBOPLASTIN_TIME', 'LACTIC_ACID', 'BLOOD_UREA_NITROGEN',\n",
    "           'OXYGEN_SATURATION', 'MAGNESIUM', 'FIO2', 's_rr', 's_edr', 'srr',\n",
    "           's_hr', 'ds', 'mrr', 's_so2','x_hr_edr','x_hr_so2']"
   ]
  },
  {
   "cell_type": "code",
   "execution_count": 22,
   "metadata": {},
   "outputs": [],
   "source": [
    "# median imputation\n",
    "df = df_bsi.copy()\n",
    "df[features] = df[features].fillna(df[features].median())\n",
    "\n",
    "# add derived columns\n",
    "df['AGAP'] = df['SODIUM']-df['CHLORIDE']-df['CO2'] #anion gap (mEq/L)\n",
    "df['BUN_sCr'] = df['BLOOD_UREA_NITROGEN']/df['CREATININE'] # blood-urea-nitrogen-to- serum-creatinine ratio\n",
    "df['MAP_cuff'] = (df['SBP']+2*df['DBP'])/3 # cuff-measured mean arterial pressure (mm Hg)\n",
    "df['PP'] = df['SBP'] - df['DBP'] # pulse pressure (mm Hg)\n",
    "\n",
    "df_imp_median = df.copy()"
   ]
  },
  {
   "cell_type": "code",
   "execution_count": 23,
   "metadata": {},
   "outputs": [],
   "source": [
    "df_imp_median.to_csv('../data/ep_uva_1B1A_median.csv', index=False)"
   ]
  },
  {
   "cell_type": "code",
   "execution_count": 15,
   "metadata": {},
   "outputs": [],
   "source": [
    "# # KNN imputation (take almost forever)\n",
    "# from sklearn.impute import KNNImputer\n",
    "\n",
    "# df = df_epi\n",
    "# imputer = KNNImputer(n_neighbors=100)\n",
    "# df[features] = imputer.fit_transform(df[features])\n",
    "# df_imp_knn = df.copy()"
   ]
  },
  {
   "cell_type": "code",
   "execution_count": 34,
   "metadata": {},
   "outputs": [
    {
     "name": "stderr",
     "output_type": "stream",
     "text": [
      "/opt/anaconda3/lib/python3.7/site-packages/sklearn/impute/_iterative.py:670: ConvergenceWarning: [IterativeImputer] Early stopping criterion not reached.\n",
      "  \" reached.\", ConvergenceWarning)\n"
     ]
    }
   ],
   "source": [
    "# MICE(IterativeImputer)\n",
    "# from sklearn.experimental import enable_iterative_imputer\n",
    "# from sklearn.impute import IterativeImputer\n",
    "\n",
    "# df = df_epi.copy()\n",
    "# imputer = IterativeImputer(random_state=3)\n",
    "# df.loc[:,features] = imputer.fit_transform(df[features])\n",
    "# # add derived columns\n",
    "# df['AGAP'] = df['SODIUM']-df['CHLORIDE']-df['CO2'] #anion gap (mEq/L)\n",
    "# df['BUN_sCr'] = df['BLOOD_UREA_NITROGEN']/df['CREATININE'] # blood-urea-nitrogen-to- serum-creatinine ratio\n",
    "# df['MAP_cuff'] = (df['SBP']+2*df['DBP'])/3 # cuff-measured mean arterial pressure (mm Hg)\n",
    "# df['PP'] = df['SBP'] - df['DBP'] # pulse pressure (mm Hg)\n",
    "\n",
    "# df_imp_iter = df.copy()"
   ]
  },
  {
   "cell_type": "code",
   "execution_count": 35,
   "metadata": {},
   "outputs": [],
   "source": [
    "# df_imp_iter.to_csv('../data/ep_uva_1B1A_mice.csv', index=False)"
   ]
  },
  {
   "cell_type": "code",
   "execution_count": null,
   "metadata": {},
   "outputs": [],
   "source": []
  },
  {
   "cell_type": "markdown",
   "metadata": {},
   "source": [
    "# --- engineering safe windows ----"
   ]
  },
  {
   "cell_type": "code",
   "execution_count": 5,
   "metadata": {},
   "outputs": [],
   "source": [
    "df_safe = pd.read_csv('../data/safeZone_uva.csv',low_memory=False)"
   ]
  },
  {
   "cell_type": "code",
   "execution_count": 5,
   "metadata": {},
   "outputs": [],
   "source": [
    "df_safe = pd.read_csv('../data/safe48_allvars_uva_org.csv',low_memory=False)"
   ]
  },
  {
   "cell_type": "code",
   "execution_count": 6,
   "metadata": {},
   "outputs": [
    {
     "name": "stdout",
     "output_type": "stream",
     "text": [
      "Window:\n",
      "    txp_# non_# txp_pct\n",
      "all : 162 2402 0.0632\n",
      "\n",
      "Row:\n",
      "        txp_# non_# txp_pct\n",
      "all :   31266  463586 0.0632\n"
     ]
    }
   ],
   "source": [
    "sample_txp_info(df_safe)"
   ]
  },
  {
   "cell_type": "code",
   "execution_count": 7,
   "metadata": {},
   "outputs": [
    {
     "data": {
      "text/plain": [
       "<matplotlib.axes._subplots.AxesSubplot at 0x7f868fcab1d0>"
      ]
     },
     "execution_count": 7,
     "metadata": {},
     "output_type": "execute_result"
    },
    {
     "data": {
      "image/png": "[encoded data removed]",
      "text/plain": [
       "<Figure size 1728x720 with 2 Axes>"
      ]
     },
     "metadata": {
      "needs_background": "light"
     },
     "output_type": "display_data"
    }
   ],
   "source": [
    "msno.bar(df_safe)"
   ]
  },
  {
   "cell_type": "code",
   "execution_count": 8,
   "metadata": {},
   "outputs": [],
   "source": [
    "df = df_safe\n",
    "features = ['Temp', 'Resp', 'Pulse','hr', 'WHITE_BLOOD_CELL_COUNT']\n",
    "\n",
    "# fix labs\n",
    "df.loc[df['WHITE_BLOOD_CELL_COUNT']>33.85,['WHITE_BLOOD_CELL_COUNT']]=33.85\n",
    "# fix vitals\n",
    "## temperature F to C\n",
    "df.loc[df['Temp']>104, ['Temp']]=104\n",
    "df.loc[df['Temp'].between(80,92), ['Temp']]=92\n",
    "df.loc[df['Temp'].between(92,104),['Temp']] = df[df['Temp'].between(92,104)]['Temp'].apply(lambda x: (x-32)*5/9)\n",
    "df.loc[df['Temp']<33.33333, ['Temp']]=33.33333\n",
    "df.loc[df['Temp'].between(40,80), ['Temp']]=40\n",
    "df.loc[df['Resp']>80,['Resp']]=80\n",
    "df.loc[df['Resp']<5,['Resp']]=5\n",
    "df.loc[df['Pulse']>300,['Pulse']]=300\n",
    "df.loc[df['Pulse']<30,['Pulse']]=30\n",
    "df.loc[df['hr']>300,['hr']]=300\n",
    "df.loc[df['hr']<30,['hr']]=30\n",
    "\n",
    "\n",
    "\n",
    "df_fixed = df.copy()"
   ]
  },
  {
   "cell_type": "code",
   "execution_count": 9,
   "metadata": {},
   "outputs": [],
   "source": [
    "# median imputation\n",
    "\n",
    "demo = ['age']\n",
    "vital = ['Temp', 'Resp', 'Pulse','hr', 'SBP', 'DBP', 'SpO2','GCS', 'FiO2', 'O2_Flow']\n",
    "lab = ['GLUCOSE', 'TOTAL_BILIRUBIN', 'POTASSIUM',\n",
    "           'ALBUMIN', 'CALCIUM', 'SODIUM', 'WHITE_BLOOD_CELL_COUNT', 'PHOSPHORUS',\n",
    "           'PROTIME_INR', 'CREATININE', 'PLATELET_COUNT', 'ALT_GPT', 'CO2',\n",
    "           'ALKALINE_PHOSPHATASE', 'AST_GOT', 'PCO2', 'CHLORIDE', 'TROPONIN_I',\n",
    "           'PARTIAL_THROMBOPLASTIN_TIME', 'LACTIC_ACID', 'BLOOD_UREA_NITROGEN',\n",
    "           'OXYGEN_SATURATION', 'MAGNESIUM', 'FIO2', 's_rr', 's_edr', 'srr',\n",
    "           's_hr', 'ds', 'mrr', 's_so2', 'x_hr_edr','x_hr_so2']\n",
    "\n",
    "\n",
    "\n",
    "\n",
    "features = demo + vital + lab #['Temp','Resp','WHITE_BLOOD_CELL_COUNT','Pulse','hr']\n",
    "\n",
    "\n",
    "df = df_safe.copy()\n",
    "df[features] = df[features].fillna(df[features].median())\n",
    "df_imp_median = df.copy()"
   ]
  },
  {
   "cell_type": "code",
   "execution_count": 10,
   "metadata": {},
   "outputs": [],
   "source": [
    "df_imp_median.to_csv('../data/safe48_allvars_uva_median.csv', index=False)"
   ]
  },
  {
   "cell_type": "code",
   "execution_count": 16,
   "metadata": {},
   "outputs": [
    {
     "name": "stderr",
     "output_type": "stream",
     "text": [
      "/opt/anaconda3/lib/python3.7/site-packages/sklearn/impute/_iterative.py:670: ConvergenceWarning: [IterativeImputer] Early stopping criterion not reached.\n",
      "  \" reached.\", ConvergenceWarning)\n"
     ]
    }
   ],
   "source": [
    "#MICE(IterativeImputer)\n",
    "from sklearn.experimental import enable_iterative_imputer\n",
    "from sklearn.impute import IterativeImputer\n",
    "\n",
    "\n",
    "\n",
    "demo = ['age']\n",
    "vital = ['Temp', 'Resp', 'Pulse','hr', 'SBP', 'DBP', 'SpO2','GCS', 'FiO2', 'O2_Flow']\n",
    "lab = ['GLUCOSE', 'TOTAL_BILIRUBIN', 'POTASSIUM',\n",
    "           'ALBUMIN', 'CALCIUM', 'SODIUM', 'WHITE_BLOOD_CELL_COUNT', 'PHOSPHORUS',\n",
    "           'PROTIME_INR', 'CREATININE', 'PLATELET_COUNT', 'ALT_GPT', 'CO2',\n",
    "           'ALKALINE_PHOSPHATASE', 'AST_GOT', 'PCO2', 'CHLORIDE', 'TROPONIN_I',\n",
    "           'PARTIAL_THROMBOPLASTIN_TIME', 'LACTIC_ACID', 'BLOOD_UREA_NITROGEN',\n",
    "           'OXYGEN_SATURATION', 'MAGNESIUM', 'FIO2', 's_rr', 's_edr', 'srr',\n",
    "           's_hr', 'ds', 'mrr', 's_so2', 'x_hr_edr','x_hr_so2']\n",
    "\n",
    "\n",
    "\n",
    "\n",
    "features = demo + vital + lab #['Temp','Resp','WHITE_BLOOD_CELL_COUNT','Pulse','hr']\n",
    "\n",
    "\n",
    "df = df_safe.copy()\n",
    "imputer = IterativeImputer(random_state=3)\n",
    "df.loc[:,features] = imputer.fit_transform(df[features])\n",
    "\n",
    "df_imp_iter = df.copy()"
   ]
  },
  {
   "cell_type": "code",
   "execution_count": 11,
   "metadata": {},
   "outputs": [
    {
     "data": {
      "text/plain": [
       "<matplotlib.axes._subplots.AxesSubplot at 0x7f868faf1f10>"
      ]
     },
     "execution_count": 11,
     "metadata": {},
     "output_type": "execute_result"
    },
    {
     "data": {
      "image/png": "[encoded data removed]",
      "text/plain": [
       "<Figure size 1728x720 with 2 Axes>"
      ]
     },
     "metadata": {
      "needs_background": "light"
     },
     "output_type": "display_data"
    }
   ],
   "source": [
    "msno.bar(df_imp_iter)\n",
    "df_imp_iter.to_csv('../data/safe48_allvars_uva_mice.csv', index=False)"
   ]
  },
  {
   "cell_type": "code",
   "execution_count": 17,
   "metadata": {},
   "outputs": [],
   "source": [
    "df_imp_iter.to_csv('../data/safe48_allvars_uva_mice.csv', index=False)"
   ]
  },
  {
   "cell_type": "code",
   "execution_count": null,
   "metadata": {},
   "outputs": [],
   "source": []
  }
 ],
 "metadata": {
  "kernelspec": {
   "display_name": "Python 3",
   "language": "python",
   "name": "python3"
  },
  "language_info": {
   "codemirror_mode": {
    "name": "ipython",
    "version": 3
   },
   "file_extension": ".py",
   "mimetype": "text/x-python",
   "name": "python",
   "nbconvert_exporter": "python",
   "pygments_lexer": "ipython3",
   "version": "3.7.4"
  }
 },
 "nbformat": 4,
 "nbformat_minor": 2
}
